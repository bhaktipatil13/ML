{
 "cells": [
  {
   "cell_type": "code",
   "execution_count": 65,
   "id": "5e0134ed",
   "metadata": {},
   "outputs": [],
   "source": [
    "import pandas as pd\n",
    "import numpy as np\n",
    "import matplotlib.pyplot as plt\n",
    "import seaborn as sns\n"
   ]
  },
  {
   "cell_type": "code",
   "execution_count": 66,
   "id": "c35a861e",
   "metadata": {},
   "outputs": [],
   "source": [
    "df=pd.read_csv(r\"C:\\Users\\Admin\\Downloads\\adult_with_headers.csv\")"
   ]
  },
  {
   "cell_type": "code",
   "execution_count": 67,
   "id": "cb93043b",
   "metadata": {},
   "outputs": [
    {
     "data": {
      "text/html": [
       "<div>\n",
       "<style scoped>\n",
       "    .dataframe tbody tr th:only-of-type {\n",
       "        vertical-align: middle;\n",
       "    }\n",
       "\n",
       "    .dataframe tbody tr th {\n",
       "        vertical-align: top;\n",
       "    }\n",
       "\n",
       "    .dataframe thead th {\n",
       "        text-align: right;\n",
       "    }\n",
       "</style>\n",
       "<table border=\"1\" class=\"dataframe\">\n",
       "  <thead>\n",
       "    <tr style=\"text-align: right;\">\n",
       "      <th></th>\n",
       "      <th>age</th>\n",
       "      <th>workclass</th>\n",
       "      <th>fnlwgt</th>\n",
       "      <th>education</th>\n",
       "      <th>education_num</th>\n",
       "      <th>marital_status</th>\n",
       "      <th>occupation</th>\n",
       "      <th>relationship</th>\n",
       "      <th>race</th>\n",
       "      <th>sex</th>\n",
       "      <th>capital_gain</th>\n",
       "      <th>capital_loss</th>\n",
       "      <th>hours_per_week</th>\n",
       "      <th>native_country</th>\n",
       "      <th>income</th>\n",
       "    </tr>\n",
       "  </thead>\n",
       "  <tbody>\n",
       "    <tr>\n",
       "      <th>0</th>\n",
       "      <td>39</td>\n",
       "      <td>State-gov</td>\n",
       "      <td>77516</td>\n",
       "      <td>Bachelors</td>\n",
       "      <td>13</td>\n",
       "      <td>Never-married</td>\n",
       "      <td>Adm-clerical</td>\n",
       "      <td>Not-in-family</td>\n",
       "      <td>White</td>\n",
       "      <td>Male</td>\n",
       "      <td>2174</td>\n",
       "      <td>0</td>\n",
       "      <td>40</td>\n",
       "      <td>United-States</td>\n",
       "      <td>&lt;=50K</td>\n",
       "    </tr>\n",
       "    <tr>\n",
       "      <th>1</th>\n",
       "      <td>50</td>\n",
       "      <td>Self-emp-not-inc</td>\n",
       "      <td>83311</td>\n",
       "      <td>Bachelors</td>\n",
       "      <td>13</td>\n",
       "      <td>Married-civ-spouse</td>\n",
       "      <td>Exec-managerial</td>\n",
       "      <td>Husband</td>\n",
       "      <td>White</td>\n",
       "      <td>Male</td>\n",
       "      <td>0</td>\n",
       "      <td>0</td>\n",
       "      <td>13</td>\n",
       "      <td>United-States</td>\n",
       "      <td>&lt;=50K</td>\n",
       "    </tr>\n",
       "    <tr>\n",
       "      <th>2</th>\n",
       "      <td>38</td>\n",
       "      <td>Private</td>\n",
       "      <td>215646</td>\n",
       "      <td>HS-grad</td>\n",
       "      <td>9</td>\n",
       "      <td>Divorced</td>\n",
       "      <td>Handlers-cleaners</td>\n",
       "      <td>Not-in-family</td>\n",
       "      <td>White</td>\n",
       "      <td>Male</td>\n",
       "      <td>0</td>\n",
       "      <td>0</td>\n",
       "      <td>40</td>\n",
       "      <td>United-States</td>\n",
       "      <td>&lt;=50K</td>\n",
       "    </tr>\n",
       "    <tr>\n",
       "      <th>3</th>\n",
       "      <td>53</td>\n",
       "      <td>Private</td>\n",
       "      <td>234721</td>\n",
       "      <td>11th</td>\n",
       "      <td>7</td>\n",
       "      <td>Married-civ-spouse</td>\n",
       "      <td>Handlers-cleaners</td>\n",
       "      <td>Husband</td>\n",
       "      <td>Black</td>\n",
       "      <td>Male</td>\n",
       "      <td>0</td>\n",
       "      <td>0</td>\n",
       "      <td>40</td>\n",
       "      <td>United-States</td>\n",
       "      <td>&lt;=50K</td>\n",
       "    </tr>\n",
       "    <tr>\n",
       "      <th>4</th>\n",
       "      <td>28</td>\n",
       "      <td>Private</td>\n",
       "      <td>338409</td>\n",
       "      <td>Bachelors</td>\n",
       "      <td>13</td>\n",
       "      <td>Married-civ-spouse</td>\n",
       "      <td>Prof-specialty</td>\n",
       "      <td>Wife</td>\n",
       "      <td>Black</td>\n",
       "      <td>Female</td>\n",
       "      <td>0</td>\n",
       "      <td>0</td>\n",
       "      <td>40</td>\n",
       "      <td>Cuba</td>\n",
       "      <td>&lt;=50K</td>\n",
       "    </tr>\n",
       "  </tbody>\n",
       "</table>\n",
       "</div>"
      ],
      "text/plain": [
       "   age          workclass  fnlwgt   education  education_num  \\\n",
       "0   39          State-gov   77516   Bachelors             13   \n",
       "1   50   Self-emp-not-inc   83311   Bachelors             13   \n",
       "2   38            Private  215646     HS-grad              9   \n",
       "3   53            Private  234721        11th              7   \n",
       "4   28            Private  338409   Bachelors             13   \n",
       "\n",
       "        marital_status          occupation    relationship    race      sex  \\\n",
       "0        Never-married        Adm-clerical   Not-in-family   White     Male   \n",
       "1   Married-civ-spouse     Exec-managerial         Husband   White     Male   \n",
       "2             Divorced   Handlers-cleaners   Not-in-family   White     Male   \n",
       "3   Married-civ-spouse   Handlers-cleaners         Husband   Black     Male   \n",
       "4   Married-civ-spouse      Prof-specialty            Wife   Black   Female   \n",
       "\n",
       "   capital_gain  capital_loss  hours_per_week  native_country  income  \n",
       "0          2174             0              40   United-States   <=50K  \n",
       "1             0             0              13   United-States   <=50K  \n",
       "2             0             0              40   United-States   <=50K  \n",
       "3             0             0              40   United-States   <=50K  \n",
       "4             0             0              40            Cuba   <=50K  "
      ]
     },
     "execution_count": 67,
     "metadata": {},
     "output_type": "execute_result"
    }
   ],
   "source": [
    "df.head()"
   ]
  },
  {
   "cell_type": "code",
   "execution_count": 68,
   "id": "2b2e1882",
   "metadata": {},
   "outputs": [
    {
     "data": {
      "text/html": [
       "<div>\n",
       "<style scoped>\n",
       "    .dataframe tbody tr th:only-of-type {\n",
       "        vertical-align: middle;\n",
       "    }\n",
       "\n",
       "    .dataframe tbody tr th {\n",
       "        vertical-align: top;\n",
       "    }\n",
       "\n",
       "    .dataframe thead th {\n",
       "        text-align: right;\n",
       "    }\n",
       "</style>\n",
       "<table border=\"1\" class=\"dataframe\">\n",
       "  <thead>\n",
       "    <tr style=\"text-align: right;\">\n",
       "      <th></th>\n",
       "      <th>age</th>\n",
       "      <th>fnlwgt</th>\n",
       "      <th>education_num</th>\n",
       "      <th>capital_gain</th>\n",
       "      <th>capital_loss</th>\n",
       "      <th>hours_per_week</th>\n",
       "    </tr>\n",
       "  </thead>\n",
       "  <tbody>\n",
       "    <tr>\n",
       "      <th>count</th>\n",
       "      <td>32561.000000</td>\n",
       "      <td>3.256100e+04</td>\n",
       "      <td>32561.000000</td>\n",
       "      <td>32561.000000</td>\n",
       "      <td>32561.000000</td>\n",
       "      <td>32561.000000</td>\n",
       "    </tr>\n",
       "    <tr>\n",
       "      <th>mean</th>\n",
       "      <td>38.581647</td>\n",
       "      <td>1.897784e+05</td>\n",
       "      <td>10.080679</td>\n",
       "      <td>1077.648844</td>\n",
       "      <td>87.303830</td>\n",
       "      <td>40.437456</td>\n",
       "    </tr>\n",
       "    <tr>\n",
       "      <th>std</th>\n",
       "      <td>13.640433</td>\n",
       "      <td>1.055500e+05</td>\n",
       "      <td>2.572720</td>\n",
       "      <td>7385.292085</td>\n",
       "      <td>402.960219</td>\n",
       "      <td>12.347429</td>\n",
       "    </tr>\n",
       "    <tr>\n",
       "      <th>min</th>\n",
       "      <td>17.000000</td>\n",
       "      <td>1.228500e+04</td>\n",
       "      <td>1.000000</td>\n",
       "      <td>0.000000</td>\n",
       "      <td>0.000000</td>\n",
       "      <td>1.000000</td>\n",
       "    </tr>\n",
       "    <tr>\n",
       "      <th>25%</th>\n",
       "      <td>28.000000</td>\n",
       "      <td>1.178270e+05</td>\n",
       "      <td>9.000000</td>\n",
       "      <td>0.000000</td>\n",
       "      <td>0.000000</td>\n",
       "      <td>40.000000</td>\n",
       "    </tr>\n",
       "    <tr>\n",
       "      <th>50%</th>\n",
       "      <td>37.000000</td>\n",
       "      <td>1.783560e+05</td>\n",
       "      <td>10.000000</td>\n",
       "      <td>0.000000</td>\n",
       "      <td>0.000000</td>\n",
       "      <td>40.000000</td>\n",
       "    </tr>\n",
       "    <tr>\n",
       "      <th>75%</th>\n",
       "      <td>48.000000</td>\n",
       "      <td>2.370510e+05</td>\n",
       "      <td>12.000000</td>\n",
       "      <td>0.000000</td>\n",
       "      <td>0.000000</td>\n",
       "      <td>45.000000</td>\n",
       "    </tr>\n",
       "    <tr>\n",
       "      <th>max</th>\n",
       "      <td>90.000000</td>\n",
       "      <td>1.484705e+06</td>\n",
       "      <td>16.000000</td>\n",
       "      <td>99999.000000</td>\n",
       "      <td>4356.000000</td>\n",
       "      <td>99.000000</td>\n",
       "    </tr>\n",
       "  </tbody>\n",
       "</table>\n",
       "</div>"
      ],
      "text/plain": [
       "                age        fnlwgt  education_num  capital_gain  capital_loss  \\\n",
       "count  32561.000000  3.256100e+04   32561.000000  32561.000000  32561.000000   \n",
       "mean      38.581647  1.897784e+05      10.080679   1077.648844     87.303830   \n",
       "std       13.640433  1.055500e+05       2.572720   7385.292085    402.960219   \n",
       "min       17.000000  1.228500e+04       1.000000      0.000000      0.000000   \n",
       "25%       28.000000  1.178270e+05       9.000000      0.000000      0.000000   \n",
       "50%       37.000000  1.783560e+05      10.000000      0.000000      0.000000   \n",
       "75%       48.000000  2.370510e+05      12.000000      0.000000      0.000000   \n",
       "max       90.000000  1.484705e+06      16.000000  99999.000000   4356.000000   \n",
       "\n",
       "       hours_per_week  \n",
       "count    32561.000000  \n",
       "mean        40.437456  \n",
       "std         12.347429  \n",
       "min          1.000000  \n",
       "25%         40.000000  \n",
       "50%         40.000000  \n",
       "75%         45.000000  \n",
       "max         99.000000  "
      ]
     },
     "execution_count": 68,
     "metadata": {},
     "output_type": "execute_result"
    }
   ],
   "source": [
    "df.describe()"
   ]
  },
  {
   "cell_type": "code",
   "execution_count": 69,
   "id": "70f06858",
   "metadata": {},
   "outputs": [
    {
     "name": "stdout",
     "output_type": "stream",
     "text": [
      "<class 'pandas.core.frame.DataFrame'>\n",
      "RangeIndex: 32561 entries, 0 to 32560\n",
      "Data columns (total 15 columns):\n",
      " #   Column          Non-Null Count  Dtype \n",
      "---  ------          --------------  ----- \n",
      " 0   age             32561 non-null  int64 \n",
      " 1   workclass       32561 non-null  object\n",
      " 2   fnlwgt          32561 non-null  int64 \n",
      " 3   education       32561 non-null  object\n",
      " 4   education_num   32561 non-null  int64 \n",
      " 5   marital_status  32561 non-null  object\n",
      " 6   occupation      32561 non-null  object\n",
      " 7   relationship    32561 non-null  object\n",
      " 8   race            32561 non-null  object\n",
      " 9   sex             32561 non-null  object\n",
      " 10  capital_gain    32561 non-null  int64 \n",
      " 11  capital_loss    32561 non-null  int64 \n",
      " 12  hours_per_week  32561 non-null  int64 \n",
      " 13  native_country  32561 non-null  object\n",
      " 14  income          32561 non-null  object\n",
      "dtypes: int64(6), object(9)\n",
      "memory usage: 3.7+ MB\n"
     ]
    }
   ],
   "source": [
    "df.info()"
   ]
  },
  {
   "cell_type": "code",
   "execution_count": 70,
   "id": "1da43c8b",
   "metadata": {},
   "outputs": [
    {
     "data": {
      "text/plain": [
       "age               0\n",
       "workclass         0\n",
       "fnlwgt            0\n",
       "education         0\n",
       "education_num     0\n",
       "marital_status    0\n",
       "occupation        0\n",
       "relationship      0\n",
       "race              0\n",
       "sex               0\n",
       "capital_gain      0\n",
       "capital_loss      0\n",
       "hours_per_week    0\n",
       "native_country    0\n",
       "income            0\n",
       "dtype: int64"
      ]
     },
     "execution_count": 70,
     "metadata": {},
     "output_type": "execute_result"
    }
   ],
   "source": [
    "df.isnull().sum()"
   ]
  },
  {
   "cell_type": "code",
   "execution_count": 71,
   "id": "c83f16f6",
   "metadata": {},
   "outputs": [
    {
     "data": {
      "text/plain": [
       "age                int64\n",
       "workclass         object\n",
       "fnlwgt             int64\n",
       "education         object\n",
       "education_num      int64\n",
       "marital_status    object\n",
       "occupation        object\n",
       "relationship      object\n",
       "race              object\n",
       "sex               object\n",
       "capital_gain       int64\n",
       "capital_loss       int64\n",
       "hours_per_week     int64\n",
       "native_country    object\n",
       "income            object\n",
       "dtype: object"
      ]
     },
     "execution_count": 71,
     "metadata": {},
     "output_type": "execute_result"
    }
   ],
   "source": [
    "df.dtypes"
   ]
  },
  {
   "cell_type": "code",
   "execution_count": 72,
   "id": "9c011950",
   "metadata": {},
   "outputs": [
    {
     "name": "stdout",
     "output_type": "stream",
     "text": [
      "\n",
      "Data after Standard Scaling (first few rows):\n",
      "        age          workclass    fnlwgt   education  education_num  \\\n",
      "0  0.030671          State-gov -1.063611   Bachelors       1.134739   \n",
      "1  0.837109   Self-emp-not-inc -1.008707   Bachelors       1.134739   \n",
      "2 -0.042642            Private  0.245079     HS-grad      -0.420060   \n",
      "3  1.057047            Private  0.425801        11th      -1.197459   \n",
      "4 -0.775768            Private  1.408176   Bachelors       1.134739   \n",
      "\n",
      "        marital_status          occupation    relationship    race      sex  \\\n",
      "0        Never-married        Adm-clerical   Not-in-family   White     Male   \n",
      "1   Married-civ-spouse     Exec-managerial         Husband   White     Male   \n",
      "2             Divorced   Handlers-cleaners   Not-in-family   White     Male   \n",
      "3   Married-civ-spouse   Handlers-cleaners         Husband   Black     Male   \n",
      "4   Married-civ-spouse      Prof-specialty            Wife   Black   Female   \n",
      "\n",
      "   capital_gain  capital_loss  hours_per_week  native_country  income  \n",
      "0      0.148453      -0.21666       -0.035429   United-States   <=50K  \n",
      "1     -0.145920      -0.21666       -2.222153   United-States   <=50K  \n",
      "2     -0.145920      -0.21666       -0.035429   United-States   <=50K  \n",
      "3     -0.145920      -0.21666       -0.035429   United-States   <=50K  \n",
      "4     -0.145920      -0.21666       -0.035429            Cuba   <=50K  \n"
     ]
    }
   ],
   "source": [
    "from sklearn.preprocessing import StandardScaler, MinMaxScaler\n",
    "\n",
    "numerical_columns = df.select_dtypes(include=['int64', 'float64']).columns\n",
    "\n",
    "\n",
    "standard_scaler = StandardScaler()\n",
    "df_standard_scaled = df.copy()\n",
    "df_standard_scaled[numerical_columns] = standard_scaler.fit_transform(df[numerical_columns])\n",
    "\n",
    "print(\"\\nData after Standard Scaling (first few rows):\")\n",
    "print(df_standard_scaled.head())\n"
   ]
  },
  {
   "cell_type": "code",
   "execution_count": 73,
   "id": "95275ad6",
   "metadata": {},
   "outputs": [
    {
     "name": "stdout",
     "output_type": "stream",
     "text": [
      "\n",
      "Data after Min-Max Scaling (first few rows):\n",
      "        age          workclass    fnlwgt   education  education_num  \\\n",
      "0  0.301370          State-gov  0.044302   Bachelors       0.800000   \n",
      "1  0.452055   Self-emp-not-inc  0.048238   Bachelors       0.800000   \n",
      "2  0.287671            Private  0.138113     HS-grad       0.533333   \n",
      "3  0.493151            Private  0.151068        11th       0.400000   \n",
      "4  0.150685            Private  0.221488   Bachelors       0.800000   \n",
      "\n",
      "        marital_status          occupation    relationship    race      sex  \\\n",
      "0        Never-married        Adm-clerical   Not-in-family   White     Male   \n",
      "1   Married-civ-spouse     Exec-managerial         Husband   White     Male   \n",
      "2             Divorced   Handlers-cleaners   Not-in-family   White     Male   \n",
      "3   Married-civ-spouse   Handlers-cleaners         Husband   Black     Male   \n",
      "4   Married-civ-spouse      Prof-specialty            Wife   Black   Female   \n",
      "\n",
      "   capital_gain  capital_loss  hours_per_week  native_country  income  \n",
      "0       0.02174           0.0        0.397959   United-States   <=50K  \n",
      "1       0.00000           0.0        0.122449   United-States   <=50K  \n",
      "2       0.00000           0.0        0.397959   United-States   <=50K  \n",
      "3       0.00000           0.0        0.397959   United-States   <=50K  \n",
      "4       0.00000           0.0        0.397959            Cuba   <=50K  \n"
     ]
    }
   ],
   "source": [
    "minmax_scaler = MinMaxScaler()\n",
    "df_minmax_scaled = df.copy()\n",
    "df_minmax_scaled[numerical_columns] = minmax_scaler.fit_transform(df[numerical_columns])\n",
    "\n",
    "print(\"\\nData after Min-Max Scaling (first few rows):\")\n",
    "print(df_minmax_scaled.head())"
   ]
  },
  {
   "cell_type": "code",
   "execution_count": 74,
   "id": "3e44c5e0",
   "metadata": {},
   "outputs": [
    {
     "data": {
      "text/plain": [
       "'\\nStandard Scaling: This transforms the numerical features such that they have a mean of 0 and a standard deviation of 1. This is useful for data that follows a normal distribution.\\nMin-Max Scaling: This scales the features to a range of [0, 1]. This is useful when all features need to be on the same scale for certain algorithms.\\n'"
      ]
     },
     "execution_count": 74,
     "metadata": {},
     "output_type": "execute_result"
    }
   ],
   "source": [
    "\"\"\"\n",
    "Standard Scaling: This transforms the numerical features such that they have a mean of 0 and a standard deviation of 1. This is useful for data that follows a normal distribution.\n",
    "Min-Max Scaling: This scales the features to a range of [0, 1]. This is useful when all features need to be on the same scale for certain algorithms.\n",
    "\"\"\""
   ]
  },
  {
   "cell_type": "code",
   "execution_count": 75,
   "id": "90cf2730",
   "metadata": {},
   "outputs": [
    {
     "name": "stdout",
     "output_type": "stream",
     "text": [
      "\n",
      "Data after One-Hot Encoding (first few rows):\n",
      "   age          workclass  fnlwgt   education  education_num  \\\n",
      "0   39          State-gov   77516   Bachelors             13   \n",
      "1   50   Self-emp-not-inc   83311   Bachelors             13   \n",
      "2   38            Private  215646     HS-grad              9   \n",
      "3   53            Private  234721        11th              7   \n",
      "4   28            Private  338409   Bachelors             13   \n",
      "\n",
      "        marital_status          occupation    relationship    race  \\\n",
      "0        Never-married        Adm-clerical   Not-in-family   White   \n",
      "1   Married-civ-spouse     Exec-managerial         Husband   White   \n",
      "2             Divorced   Handlers-cleaners   Not-in-family   White   \n",
      "3   Married-civ-spouse   Handlers-cleaners         Husband   Black   \n",
      "4   Married-civ-spouse      Prof-specialty            Wife   Black   \n",
      "\n",
      "   capital_gain  capital_loss  hours_per_week  native_country  sex_ Male  \\\n",
      "0          2174             0              40   United-States       True   \n",
      "1             0             0              13   United-States       True   \n",
      "2             0             0              40   United-States       True   \n",
      "3             0             0              40   United-States       True   \n",
      "4             0             0              40            Cuba      False   \n",
      "\n",
      "   income_ >50K  \n",
      "0         False  \n",
      "1         False  \n",
      "2         False  \n",
      "3         False  \n",
      "4         False  \n",
      "\n",
      "Updated columns after One-Hot Encoding:\n",
      "Index(['age', 'workclass', 'fnlwgt', 'education', 'education_num',\n",
      "       'marital_status', 'occupation', 'relationship', 'race', 'capital_gain',\n",
      "       'capital_loss', 'hours_per_week', 'native_country', 'sex_ Male',\n",
      "       'income_ >50K'],\n",
      "      dtype='object')\n"
     ]
    }
   ],
   "source": [
    "categorical_columns = df.select_dtypes(include=['object']).columns\n",
    "\n",
    "columns_to_encode = [col for col in categorical_columns if df[col].nunique() < 5]\n",
    "\n",
    "df_encoded = pd.get_dummies(df, columns=columns_to_encode, drop_first=True)\n",
    "\n",
    "print(\"\\nData after One-Hot Encoding (first few rows):\")\n",
    "print(df_encoded.head())\n",
    "\n",
    "print(\"\\nUpdated columns after One-Hot Encoding:\")\n",
    "print(df_encoded.columns)\n"
   ]
  },
  {
   "cell_type": "code",
   "execution_count": 76,
   "id": "42d92c1e",
   "metadata": {},
   "outputs": [
    {
     "name": "stdout",
     "output_type": "stream",
     "text": [
      "\n",
      "Data after Label Encoding (first few rows):\n",
      "   age  workclass  fnlwgt  education  education_num  marital_status  \\\n",
      "0   39          7   77516          9             13               4   \n",
      "1   50          6   83311          9             13               2   \n",
      "2   38          4  215646         11              9               0   \n",
      "3   53          4  234721          1              7               2   \n",
      "4   28          4  338409          9             13               2   \n",
      "\n",
      "   occupation  relationship    race      sex  capital_gain  capital_loss  \\\n",
      "0           1             1   White     Male          2174             0   \n",
      "1           4             0   White     Male             0             0   \n",
      "2           6             1   White     Male             0             0   \n",
      "3           6             0   Black     Male             0             0   \n",
      "4          10             5   Black   Female             0             0   \n",
      "\n",
      "   hours_per_week  native_country  income  \n",
      "0              40              39   <=50K  \n",
      "1              13              39   <=50K  \n",
      "2              40              39   <=50K  \n",
      "3              40              39   <=50K  \n",
      "4              40               5   <=50K  \n",
      "\n",
      "Updated column data types:\n",
      "age                int64\n",
      "workclass          int32\n",
      "fnlwgt             int64\n",
      "education          int32\n",
      "education_num      int64\n",
      "marital_status     int32\n",
      "occupation         int32\n",
      "relationship       int32\n",
      "race              object\n",
      "sex               object\n",
      "capital_gain       int64\n",
      "capital_loss       int64\n",
      "hours_per_week     int64\n",
      "native_country     int32\n",
      "income            object\n",
      "dtype: object\n"
     ]
    }
   ],
   "source": [
    "from sklearn.preprocessing import LabelEncoder\n",
    "\n",
    "categorical_columns = df.select_dtypes(include=['object']).columns\n",
    "\n",
    "columns_to_label_encode = [col for col in categorical_columns if df[col].nunique() > 5]\n",
    "\n",
    "label_encoder = LabelEncoder()\n",
    "for col in columns_to_label_encode:\n",
    "    df[col] = label_encoder.fit_transform(df[col])\n",
    "\n",
    "print(\"\\nData after Label Encoding (first few rows):\")\n",
    "print(df.head())\n",
    "\n",
    "print(\"\\nUpdated column data types:\")\n",
    "print(df.dtypes)\n"
   ]
  },
  {
   "cell_type": "code",
   "execution_count": 77,
   "id": "dc96b829",
   "metadata": {},
   "outputs": [
    {
     "data": {
      "text/plain": [
       "'\\nLabel Encoding\\nPros:\\nCompact and efficient for high-cardinality variables.\\nWorks well with tree-based models like Random Forests and XGBoost.\\nCons:\\nMay introduce unintended ordinal relationships.\\nLess interpretable for high-cardinality data.\\n'"
      ]
     },
     "execution_count": 77,
     "metadata": {},
     "output_type": "execute_result"
    }
   ],
   "source": [
    "\n",
    "\"\"\"\n",
    "One-Hot Encoding\n",
    "Pros:\n",
    "Avoids ordinal bias.\n",
    "Suitable for linear models and neural networks.\n",
    "Cons:\n",
    "High dimensionality for high-cardinality variables.\n",
    "Computationally expensive for large datasets.\n",
    "\"\"\"\n",
    "\"\"\"\n",
    "Label Encoding\n",
    "Pros:\n",
    "Compact and efficient for high-cardinality variables.\n",
    "Works well with tree-based models like Random Forests and XGBoost.\n",
    "Cons:\n",
    "May introduce unintended ordinal relationships.\n",
    "Less interpretable for high-cardinality data.\n",
    "\"\"\""
   ]
  },
  {
   "cell_type": "code",
   "execution_count": 78,
   "id": "b9a1af0f",
   "metadata": {},
   "outputs": [
    {
     "name": "stdout",
     "output_type": "stream",
     "text": [
      "\n",
      "Unique values in 'age_category':\n",
      "['Middle-aged' 'Senior' 'Young']\n"
     ]
    }
   ],
   "source": [
    "# sge as feature\n",
    "\n",
    "\n",
    "def categorize_age(age):\n",
    "    if age < 30:\n",
    "        return 'Young'\n",
    "    elif 30 <= age < 50:\n",
    "        return 'Middle-aged'\n",
    "    else:\n",
    "        return 'Senior'\n",
    "\n",
    "df['age_category'] = df['age'].apply(categorize_age)\n",
    "\n",
    "print(\"\\nUnique values in 'age_category':\")\n",
    "print(df['age_category'].unique())\n"
   ]
  },
  {
   "cell_type": "code",
   "execution_count": 79,
   "id": "ed08c267",
   "metadata": {},
   "outputs": [
    {
     "name": "stdout",
     "output_type": "stream",
     "text": [
      "\n",
      "Unique values in 'work_hours_per_week_category':\n",
      "['Full-time' 'Part-time' 'Overtime']\n"
     ]
    }
   ],
   "source": [
    "#Work hours per category as feature\n",
    "\n",
    "def categorize_work_hours(hours):\n",
    "    if hours < 20:\n",
    "        return 'Part-time'\n",
    "    elif 20 <= hours <= 40:\n",
    "        return 'Full-time'\n",
    "    else:\n",
    "        return 'Overtime'\n",
    "\n",
    "# Create the new feature\n",
    "df['work_hours_per_week_category'] = df['hours_per_week'].apply(categorize_work_hours)\n",
    "\n",
    "print(\"\\nUnique values in 'work_hours_per_week_category':\")\n",
    "print(df['work_hours_per_week_category'].unique())\n"
   ]
  },
  {
   "cell_type": "code",
   "execution_count": 80,
   "id": "cefb3451",
   "metadata": {},
   "outputs": [
    {
     "name": "stdout",
     "output_type": "stream",
     "text": [
      "\n",
      "Skewness of 'capital_gain' before transformation:\n",
      "11.953847687699799\n",
      "\n",
      "Skewness of 'capital_gain' after log transformation:\n",
      "3.096143524467517\n",
      "\n",
      "First few rows with transformed 'log_capital_gain':\n",
      "   capital_gain  log_capital_gain\n",
      "0          2174          7.684784\n",
      "1             0          0.000000\n",
      "2             0          0.000000\n",
      "3             0          0.000000\n",
      "4             0          0.000000\n"
     ]
    }
   ],
   "source": [
    "\n",
    "print(\"\\nSkewness of 'capital_gain' before transformation:\")\n",
    "print(df['capital_gain'].skew())\n",
    "\n",
    "df['log_capital_gain'] = np.log1p(df['capital_gain'])\n",
    "\n",
    "print(\"\\nSkewness of 'capital_gain' after log transformation:\")\n",
    "print(df['log_capital_gain'].skew())\n",
    "\n",
    "print(\"\\nFirst few rows with transformed 'log_capital_gain':\")\n",
    "print(df[['capital_gain', 'log_capital_gain']].head())\n"
   ]
  },
  {
   "cell_type": "code",
   "execution_count": 81,
   "id": "b88f415b",
   "metadata": {},
   "outputs": [
    {
     "data": {
      "text/plain": [
       "'\\nJustification:\\nSkewed Data: If capital_gain has a right skew (which is likely in real-world data), applying a log transformation helps make the distribution more symmetrical and improves the model’s performance.\\nLinear and Distance-Based Models: These models tend to perform better when the data is normally distributed, as they assume equal variance and linearity.\\n'"
      ]
     },
     "execution_count": 81,
     "metadata": {},
     "output_type": "execute_result"
    }
   ],
   "source": [
    "\"\"\"\n",
    "Justification:\n",
    "Skewed Data: If capital_gain has a right skew (which is likely in real-world data), applying a log transformation helps make the distribution more symmetrical and improves the model’s performance.\n",
    "Linear and Distance-Based Models: These models tend to perform better when the data is normally distributed, as they assume equal variance and linearity.\n",
    "\"\"\""
   ]
  },
  {
   "cell_type": "code",
   "execution_count": 82,
   "id": "f8ccb1ea",
   "metadata": {},
   "outputs": [
    {
     "name": "stdout",
     "output_type": "stream",
     "text": [
      "\n",
      "Number of outliers detected: 1628\n",
      "Dataset shape before and after outlier removal: (32561, 19) -> (30933, 18)\n"
     ]
    }
   ],
   "source": [
    "from sklearn.ensemble import IsolationForest\n",
    "iso_forest = IsolationForest(contamination=0.05, random_state=42)\n",
    "\n",
    "numerical_columns = df.select_dtypes(include=['int64', 'float64']).columns\n",
    "df_numerical = df[numerical_columns]\n",
    "\n",
    "outliers = iso_forest.fit_predict(df_numerical)\n",
    "\n",
    "df['outlier'] = outliers == -1\n",
    "\n",
    "df_cleaned = df[df['outlier'] == False].drop(columns=['outlier'])\n",
    "\n",
    "print(f\"\\nNumber of outliers detected: {df['outlier'].sum()}\")\n",
    "print(f\"Dataset shape before and after outlier removal: {df.shape} -> {df_cleaned.shape}\")\n"
   ]
  },
  {
   "cell_type": "code",
   "execution_count": 83,
   "id": "64655acc",
   "metadata": {},
   "outputs": [
    {
     "data": {
      "text/plain": [
       "'\\nHow Outliers Can Affect Model Performance:\\nSkewing Results:\\nOutliers can skew the model’s understanding of the data, leading to biased predictions or estimates, especially in models that are sensitive to the distribution of the data.\\nImpact on Training:\\nFor linear models: Outliers can disproportionately affect the model’s parameters, leading to poor generalization.\\nFor distance-based models (e.g., KNN, SVM): Outliers can distort the distance metrics and lead to misclassification or incorrect predictions.\\nFor tree-based models: Outliers generally have less impact, but excessive outliers can still reduce model performance and interpretation.\\nModel Overfitting:\\nThe model might overfit to outliers, learning the noise rather than the underlying patterns, leading to poor generalization on unseen data.\\n'"
      ]
     },
     "execution_count": 83,
     "metadata": {},
     "output_type": "execute_result"
    }
   ],
   "source": [
    "\"\"\"\n",
    "How Outliers Can Affect Model Performance:\n",
    "Skewing Results:\n",
    "Outliers can skew the model’s understanding of the data, leading to biased predictions or estimates, especially in models that are sensitive to the distribution of the data.\n",
    "Impact on Training:\n",
    "For linear models: Outliers can disproportionately affect the model’s parameters, leading to poor generalization.\n",
    "For distance-based models (e.g., KNN, SVM): Outliers can distort the distance metrics and lead to misclassification or incorrect predictions.\n",
    "For tree-based models: Outliers generally have less impact, but excessive outliers can still reduce model performance and interpretation.\n",
    "Model Overfitting:\n",
    "The model might overfit to outliers, learning the noise rather than the underlying patterns, leading to poor generalization on unseen data.\n",
    "\"\"\""
   ]
  },
  {
   "cell_type": "code",
   "execution_count": null,
   "id": "9217335f",
   "metadata": {
    "scrolled": true
   },
   "outputs": [],
   "source": [
    "\n",
    "\n"
   ]
  },
  {
   "cell_type": "code",
   "execution_count": null,
   "id": "b6cd899e",
   "metadata": {},
   "outputs": [],
   "source": []
  },
  {
   "cell_type": "code",
   "execution_count": null,
   "id": "4641d62e",
   "metadata": {},
   "outputs": [],
   "source": []
  },
  {
   "cell_type": "code",
   "execution_count": null,
   "id": "fa88e627",
   "metadata": {},
   "outputs": [],
   "source": []
  },
  {
   "cell_type": "code",
   "execution_count": null,
   "id": "619d3d29",
   "metadata": {},
   "outputs": [],
   "source": []
  }
 ],
 "metadata": {
  "kernelspec": {
   "display_name": "Python 3 (ipykernel)",
   "language": "python",
   "name": "python3"
  },
  "language_info": {
   "codemirror_mode": {
    "name": "ipython",
    "version": 3
   },
   "file_extension": ".py",
   "mimetype": "text/x-python",
   "name": "python",
   "nbconvert_exporter": "python",
   "pygments_lexer": "ipython3",
   "version": "3.10.9"
  }
 },
 "nbformat": 4,
 "nbformat_minor": 5
}
